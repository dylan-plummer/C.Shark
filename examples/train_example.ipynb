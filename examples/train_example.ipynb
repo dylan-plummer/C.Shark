{
 "cells": [
  {
   "cell_type": "markdown",
   "metadata": {},
   "source": [
    "### Hi-C Data Preparation\n",
    "\n",
    "1. Convert chromosome anchor.to.anchor files to full genome cooler file\n",
    "2. Map cooler to uniform (10kb) bins\n",
    "3. Convert to sparse matrix (.npz) format"
   ]
  },
  {
   "cell_type": "code",
   "execution_count": null,
   "metadata": {},
   "outputs": [],
   "source": [
    "! python src/cshark/preprocessing/convert_to_cooler.py \\\n",
    "    --loop_dir /mnt/jinstore/Archive01/LAB/Hi-C/ssz20_12122022_publicArima_AlphaBetaAcinar/processed/beta/Enhance_250M \\\n",
    "    --anchors /mnt/jinstore/JinLab03/xxl1432/Reference/HiC/enzyme/hg19_GATC_GANTC/anchor_bed \\\n",
    "    --col_names a1 a2 ratio \\\n",
    "    --out beta_5kb_deeploop.cool"
   ]
  },
  {
   "cell_type": "code",
   "execution_count": null,
   "metadata": {},
   "outputs": [],
   "source": [
    "! python src/cshark/preprocessing/cooler_uniform_bins.py beta_5kb_deeploop.cool beta_10kb_deeploop.cool 10000"
   ]
  },
  {
   "cell_type": "code",
   "execution_count": null,
   "metadata": {},
   "outputs": [],
   "source": [
    "! python src/cshark/preprocessing/cool2npy.py beta_10kb_deeploop.mcool ../cshark_data/data/hg19/beta/hic_matrix --no-balance"
   ]
  },
  {
   "cell_type": "markdown",
   "metadata": {},
   "source": [
    "### Data Organization\n",
    "\n",
    "Training expects data organized according to:\n",
    "\n",
    "`<data_root>/<assembly>/<celltype>`\n",
    "\n",
    "Each of these celltype directories should contain a `genomic_features` folder containing the training and target bigwigs, as well as a `hic_matrix` folder containing the output of the Hi-C preprocessing pipeline.\n",
    "\n",
    "An example of a celltype directory looks like this:"
   ]
  },
  {
   "cell_type": "code",
   "execution_count": 7,
   "metadata": {},
   "outputs": [
    {
     "name": "stdout",
     "output_type": "stream",
     "text": [
      "\u001b[01;34m../cshark_data/data/hg19/beta\u001b[0m\n",
      "├── \u001b[01;34mgenomic_features\u001b[0m\n",
      "│   ├── \u001b[00matac.bw\u001b[0m\n",
      "│   └── \u001b[00mctcf.bw\u001b[0m\n",
      "└── \u001b[01;34mhic_matrix\u001b[0m\n",
      "    ├── \u001b[00mchr10.npz\u001b[0m\n",
      "    ├── \u001b[00mchr11.npz\u001b[0m\n",
      "    ├── \u001b[00mchr12.npz\u001b[0m\n",
      "    ├── \u001b[00mchr13.npz\u001b[0m\n",
      "    ├── \u001b[00mchr14.npz\u001b[0m\n",
      "    ├── \u001b[00mchr15.npz\u001b[0m\n",
      "    ├── \u001b[00mchr16.npz\u001b[0m\n",
      "    ├── \u001b[00mchr17.npz\u001b[0m\n",
      "    ├── \u001b[00mchr18.npz\u001b[0m\n",
      "    ├── \u001b[00mchr19.npz\u001b[0m\n",
      "    ├── \u001b[00mchr1.npz\u001b[0m\n",
      "    ├── \u001b[00mchr20.npz\u001b[0m\n",
      "    ├── \u001b[00mchr21.npz\u001b[0m\n",
      "    ├── \u001b[00mchr22.npz\u001b[0m\n",
      "    ├── \u001b[00mchr2.npz\u001b[0m\n",
      "    ├── \u001b[00mchr3.npz\u001b[0m\n",
      "    ├── \u001b[00mchr4.npz\u001b[0m\n",
      "    ├── \u001b[00mchr5.npz\u001b[0m\n",
      "    ├── \u001b[00mchr6.npz\u001b[0m\n",
      "    ├── \u001b[00mchr7.npz\u001b[0m\n",
      "    ├── \u001b[00mchr8.npz\u001b[0m\n",
      "    ├── \u001b[00mchr9.npz\u001b[0m\n",
      "    ├── \u001b[00mchrX.npz\u001b[0m\n",
      "    └── \u001b[00mchrY.npz\u001b[0m\n",
      "\n",
      "3 directories, 26 files\n"
     ]
    }
   ],
   "source": [
    "! tree ../cshark_data/data/hg19/beta"
   ]
  },
  {
   "cell_type": "markdown",
   "metadata": {},
   "source": [
    "### Training\n",
    "\n",
    "Once the data is organized, you can run the `train.py` script with the arguments:\n",
    "\n",
    "* `--data-root`\n",
    "\n",
    "* `--assembly`\n",
    "\n",
    "* `--celltypes`: can provide a single celltype folder name, or a whole list\n",
    "\n",
    "* `--input-features`: names of bigwig files to use as input\n",
    "\n",
    "You can optionally provide `--target-features` of the same or different bigwigs and the model will try to reconstruct/predict these."
   ]
  },
  {
   "cell_type": "code",
   "execution_count": null,
   "metadata": {},
   "outputs": [],
   "source": [
    "! python3 ../src/cshark/training/train.py \\\n",
    "    --data-root ../cshark_data/data \\\n",
    "    --assembly hg19 \\\n",
    "    --celltypes beta \\\n",
    "    --input-features ctcf atac \\\n",
    "    --target-features ctcf atac \\\n",
    "    --latent-dim 128 \\\n",
    "    --num-gpu 1 \\\n",
    "    --batch-size 2 \\\n",
    "    --num-workers 1 \\\n",
    "    --use-wandb"
   ]
  }
 ],
 "metadata": {
  "kernelspec": {
   "display_name": "cshark",
   "language": "python",
   "name": "python3"
  },
  "language_info": {
   "codemirror_mode": {
    "name": "ipython",
    "version": 3
   },
   "file_extension": ".py",
   "mimetype": "text/x-python",
   "name": "python",
   "nbconvert_exporter": "python",
   "pygments_lexer": "ipython3",
   "version": "3.12.2"
  }
 },
 "nbformat": 4,
 "nbformat_minor": 2
}
